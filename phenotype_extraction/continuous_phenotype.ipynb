{
 "cells": [
  {
   "cell_type": "code",
   "execution_count": null,
   "metadata": {},
   "outputs": [],
   "source": [
    "# This code was written based on the phenotype extraction steps provided on the https://dnanexus.gitbook.io/uk-biobank-rap/science-corner/gwas-using-alzheimers-disease website\n",
    "# Import packages \n",
    "import dxpy\n",
    "import subprocess\n",
    "\n",
    "# Automatically discover dispensed dataset ID and load the dataset \n",
    "dispensed_dataset_id = dxpy.find_one_data_object(typename='Dataset', name='app*.dataset', folder='/', name_mode='glob')['id']\n",
    "\n",
    "# Get project ID\n",
    "project_id = dxpy.find_one_project()[\"id\"]\n",
    "dataset = (':').join([project_id, dispensed_dataset_id])\n",
    "\n",
    "cmd = [\"dx\", \"extract_dataset\", dataset, \"-ddd\", \"--delimiter\", \",\"]\n",
    "subprocess.check_call(cmd)"
   ]
  },
  {
   "cell_type": "code",
   "execution_count": null,
   "metadata": {},
   "outputs": [],
   "source": [
    "import glob\n",
    "import os\n",
    "import pandas as pd\n",
    "\n",
    "path = os.getcwd()\n",
    "data_dict_csv = glob.glob(os.path.join(path, \"*.data_dictionary.csv\"))[0]\n",
    "data_dict_df = pd.read_csv(data_dict_csv)\n",
    "data_dict_df.head()"
   ]
  },
  {
   "cell_type": "code",
   "execution_count": null,
   "metadata": {},
   "outputs": [],
   "source": [
    "from distutils.version import LooseVersion\n",
    "\n",
    "def field_names_for_ids(field_id):\n",
    "    field_names = [\"eid\"]\n",
    "    for _id in field_id:\n",
    "        select_field_names = list(data_dict_df[data_dict_df.name.str.match(r'^p{}(_i\\d+)?(_a\\d+)?$'.format(_id))].name.values)\n",
    "        field_names += select_field_names\n",
    "    field_names = sorted([field for field in field_names], key=lambda n: LooseVersion(n))\n",
    "        \n",
    "    field_names = [f\"participant.{f}\" for f in field_names]\n",
    "    return \",\".join(field_names)\n",
    "\n",
    "field_ids = ['31', '21022', '22001', '22006', '22009', '22019', '22021', '22027','30690']\n",
    "field_names = field_names_for_ids(field_ids)"
   ]
  },
  {
   "cell_type": "code",
   "execution_count": null,
   "metadata": {},
   "outputs": [],
   "source": [
    "cmd = [\"dx\", \"extract_dataset\", dataset, \"--fields\", field_names, \"--delimiter\", \",\", \"--output\", \"extracted_data.sql\", \"--sql\"]\n",
    "subprocess.check_call(cmd)\n",
    "\n",
    "import pyspark\n",
    "\n",
    "sc = pyspark.SparkContext()\n",
    "spark = pyspark.sql.SparkSession(sc)\n",
    "\n",
    "with open(\"extracted_data.sql\", \"r\") as file:\n",
    "    retrieve_sql=\"\"\n",
    "    for line in file: \n",
    "        retrieve_sql += line.strip()  \n",
    "             \n",
    "temp_df = spark.sql(retrieve_sql.strip(\";\"))\n",
    "pdf = temp_df.toPandas()"
   ]
  },
  {
   "cell_type": "code",
   "execution_count": null,
   "metadata": {},
   "outputs": [],
   "source": [
    "import re\n",
    "pdf = pdf.rename(columns=lambda x: re.sub('participant.','',x))"
   ]
  },
  {
   "cell_type": "code",
   "execution_count": null,
   "metadata": {},
   "outputs": [],
   "source": [
    "pdf_qced = pdf[\n",
    "           (pdf['p31'] == pdf['p22001']) & # Filter in sex and genetic sex are the same\n",
    "           (pdf['p22006']==1) &            # in_white_british_ancestry_subset\n",
    "           (pdf['p22019'].isnull()) &      # Not Sex chromosome aneuploidy\n",
    "           (pdf['p22021']!=10) &           # Not Ten or more third-degree relatives identified (not 'excess_relatives')\n",
    "           (pdf['p22027'].isnull()) &      # Not het_missing_outliers\n",
    "           (pdf['p30690_i0'].isnull() == False)\n",
    "]"
   ]
  },
  {
   "cell_type": "code",
   "execution_count": null,
   "metadata": {},
   "outputs": [],
   "source": [
    "# Rename columns for better human readability \n",
    "import re\n",
    " \n",
    "pdf_qced = pdf_qced.rename(columns=lambda x: re.sub('p22009_a','pc',x)) \n",
    "pdf_qced = pdf_qced.rename(columns={'eid':'IID', 'p31': 'sex', 'p21022': 'age', 'p22006': 'ethnic_group', \n",
    "'p22019': 'sex_chromosome_aneuploidy', \n",
    "'p22021': 'kinship_to_other_participants', \n",
    "'p22027': 'outliers_for_heterozygosity_or_missing',\n",
    "'p30690_i0':'cholesterol'})\n",
    " \n",
    "# Add FID column -- required input format for regenie \n",
    "pdf_qced['FID'] = pdf_qced['IID'] \n",
    " \n",
    "# Create a phenotype table from our QCed data \n",
    "pdf_phenotype = pdf_qced[['FID', 'IID', 'sex', 'age', \n",
    "'ethnic_group', 'sex_chromosome_aneuploidy', \n",
    "'kinship_to_other_participants', \n",
    "'outliers_for_heterozygosity_or_missing', \n",
    "'cholesterol'] + [f'pc{i}' for i in range(1, 11)]]\n",
    "\n",
    "##pdf_phenotype.to_csv('tch.phe', sep='\\t', na_rep='NA', index=False, quoting=3 )"
   ]
  },
  {
   "cell_type": "code",
   "execution_count": null,
   "metadata": {},
   "outputs": [],
   "source": [
    "df_pheno = pdf_phenotype[['FID','IID','sex','age','cholesterol']+['pc'+str(i) for i in range(1,11)]]\n",
    "df_pheno.index = df_pheno.IID\n",
    "df_pheno = df_pheno.drop(['FID','IID'],axis=1)\n",
    "df_pheno.to_parquet('tch_pheno.parquet',engine='pyarrow',compression='snappy')"
   ]
  }
 ],
 "metadata": {
  "kernelspec": {
   "display_name": "Python (tf_env)",
   "language": "python",
   "name": "tf_env"
  },
  "language_info": {
   "codemirror_mode": {
    "name": "ipython",
    "version": 3
   },
   "file_extension": ".py",
   "mimetype": "text/x-python",
   "name": "python",
   "nbconvert_exporter": "python",
   "pygments_lexer": "ipython3",
   "version": "3.10.16"
  }
 },
 "nbformat": 4,
 "nbformat_minor": 2
}
